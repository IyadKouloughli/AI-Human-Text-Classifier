{
 "cells": [
  {
   "cell_type": "code",
   "execution_count": 1,
   "metadata": {},
   "outputs": [
    {
     "name": "stdout",
     "output_type": "stream",
     "text": [
      "WARNING:tensorflow:From d:\\python-3.10\\lib\\site-packages\\tf_keras\\src\\losses.py:2976: The name tf.losses.sparse_softmax_cross_entropy is deprecated. Please use tf.compat.v1.losses.sparse_softmax_cross_entropy instead.\n",
      "\n"
     ]
    }
   ],
   "source": [
    "# Import necessary libraries\n",
    "import pandas as pd\n",
    "import numpy as np\n",
    "from sklearn.model_selection import train_test_split\n",
    "from transformers import DistilBertTokenizer, DistilBertForSequenceClassification, Trainer, TrainingArguments\n",
    "from datasets import Dataset\n",
    "import torch\n",
    "from sklearn.metrics import accuracy_score, classification_report"
   ]
  },
  {
   "cell_type": "code",
   "execution_count": 2,
   "metadata": {},
   "outputs": [
    {
     "name": "stdout",
     "output_type": "stream",
     "text": [
      "data loaded. Shape: (487235, 2)\n"
     ]
    }
   ],
   "source": [
    "# Step 1: Read the preprocessed data\n",
    "data_path = 'AI_Human.csv'\n",
    "df = pd.read_csv(data_path)\n",
    "print(\"data loaded. Shape:\", df.shape)"
   ]
  },
  {
   "cell_type": "code",
   "execution_count": 3,
   "metadata": {},
   "outputs": [
    {
     "name": "stdout",
     "output_type": "stream",
     "text": [
      "Sampled data shape: (20000, 2)\n"
     ]
    }
   ],
   "source": [
    "# Step 2: Sample 20,000 from each class (or change to 100 for testing)\n",
    "n_samples_per_class = 10000  # Set to 100 if you want a tiny dataset\n",
    "df_human = df[df['generated'] == 0].sample(n=n_samples_per_class, random_state=42)\n",
    "df_ai = df[df['generated'] == 1].sample(n=n_samples_per_class, random_state=42)\n",
    "df_sampled = pd.concat([df_human, df_ai]).sample(frac=1, random_state=42).reset_index(drop=True)\n",
    "print(\"Sampled data shape:\", df_sampled.shape)"
   ]
  },
  {
   "cell_type": "code",
   "execution_count": 4,
   "metadata": {},
   "outputs": [
    {
     "name": "stdout",
     "output_type": "stream",
     "text": [
      "Shape after preprocessing (removing NaN): (20000, 2)\n",
      "Unique values in 'generated': [1 0]\n",
      "Sampled preprocessed data saved as 'sampled_preprocessed_data.csv'\n"
     ]
    }
   ],
   "source": [
    "# Step 3: Preprocess the sampled data\n",
    "df_sampled = df_sampled.dropna(subset=['text'])\n",
    "df_sampled['generated'] = df_sampled['generated'].astype(int)\n",
    "print(\"Shape after preprocessing (removing NaN):\", df_sampled.shape)\n",
    "print(\"Unique values in 'generated':\", df_sampled['generated'].unique())\n",
    "df_sampled.to_csv('sampled_preprocessed_data.csv', index=False)\n",
    "print(\"Sampled preprocessed data saved as 'sampled_preprocessed_data.csv'\")"
   ]
  },
  {
   "cell_type": "code",
   "execution_count": 5,
   "metadata": {},
   "outputs": [
    {
     "name": "stdout",
     "output_type": "stream",
     "text": [
      "Train set shape: (16000, 2)\n",
      "Validation set shape: (2000, 2)\n",
      "Test set shape: (2000, 2)\n"
     ]
    }
   ],
   "source": [
    "# Step 4: Split into train (80%), validation (10%), test (10%)\n",
    "train_df, temp_df = train_test_split(df_sampled, test_size=0.2, random_state=42, stratify=df_sampled['generated'])\n",
    "val_df, test_df = train_test_split(temp_df, test_size=0.5, random_state=42, stratify=temp_df['generated'])\n",
    "print(\"Train set shape:\", train_df.shape)\n",
    "print(\"Validation set shape:\", val_df.shape)\n",
    "print(\"Test set shape:\", test_df.shape)"
   ]
  },
  {
   "cell_type": "code",
   "execution_count": 6,
   "metadata": {},
   "outputs": [],
   "source": [
    "# Step 5: Convert to Hugging Face Datasets\n",
    "train_dataset = Dataset.from_pandas(train_df)\n",
    "val_dataset = Dataset.from_pandas(val_df)\n",
    "test_dataset = Dataset.from_pandas(test_df)"
   ]
  },
  {
   "cell_type": "code",
   "execution_count": 7,
   "metadata": {},
   "outputs": [
    {
     "data": {
      "application/vnd.jupyter.widget-view+json": {
       "model_id": "64de26777dfd4f0e84b84d07c4b6d605",
       "version_major": 2,
       "version_minor": 0
      },
      "text/plain": [
       "Map:   0%|          | 0/16000 [00:00<?, ? examples/s]"
      ]
     },
     "metadata": {},
     "output_type": "display_data"
    },
    {
     "data": {
      "application/vnd.jupyter.widget-view+json": {
       "model_id": "a4b69deab8d841719215178b7e74aaf8",
       "version_major": 2,
       "version_minor": 0
      },
      "text/plain": [
       "Map:   0%|          | 0/2000 [00:00<?, ? examples/s]"
      ]
     },
     "metadata": {},
     "output_type": "display_data"
    },
    {
     "data": {
      "application/vnd.jupyter.widget-view+json": {
       "model_id": "4a6f7e8d7d6a4d6aac88288b757a620f",
       "version_major": 2,
       "version_minor": 0
      },
      "text/plain": [
       "Map:   0%|          | 0/2000 [00:00<?, ? examples/s]"
      ]
     },
     "metadata": {},
     "output_type": "display_data"
    }
   ],
   "source": [
    "# Step 6: Load DistilBERT tokenizer\n",
    "tokenizer = DistilBertTokenizer.from_pretrained('distilbert-base-uncased')\n",
    "\n",
    "# Tokenize function\n",
    "def tokenize_function(examples):\n",
    "    return tokenizer(examples['text'], padding=\"max_length\", truncation=True, max_length=512)\n",
    "\n",
    "train_dataset = train_dataset.map(tokenize_function, batched=True)\n",
    "val_dataset = val_dataset.map(tokenize_function, batched=True)\n",
    "test_dataset = test_dataset.map(tokenize_function, batched=True)"
   ]
  },
  {
   "cell_type": "code",
   "execution_count": 8,
   "metadata": {},
   "outputs": [
    {
     "name": "stdout",
     "output_type": "stream",
     "text": [
      "Train dataset labels sample: tensor([1, 0, 0, 1, 1])\n",
      "Train labels dtype: torch.int64\n"
     ]
    }
   ],
   "source": [
    "# Step 7: Set format for PyTorch and verify labels\n",
    "train_dataset.set_format('torch', columns=['input_ids', 'attention_mask', 'generated'])\n",
    "val_dataset.set_format('torch', columns=['input_ids', 'attention_mask', 'generated'])\n",
    "test_dataset.set_format('torch', columns=['input_ids', 'attention_mask', 'generated'])\n",
    "\n",
    "# Rename 'generated' to 'labels'\n",
    "train_dataset = train_dataset.rename_column(\"generated\", \"labels\")\n",
    "val_dataset = val_dataset.rename_column(\"generated\", \"labels\")\n",
    "test_dataset = test_dataset.rename_column(\"generated\", \"labels\")\n",
    "\n",
    "# Verify label tensor shape and type\n",
    "print(\"Train dataset labels sample:\", train_dataset['labels'][:5])\n",
    "print(\"Train labels dtype:\", train_dataset['labels'].dtype)"
   ]
  },
  {
   "cell_type": "code",
   "execution_count": 9,
   "metadata": {},
   "outputs": [
    {
     "name": "stderr",
     "output_type": "stream",
     "text": [
      "Some weights of DistilBertForSequenceClassification were not initialized from the model checkpoint at distilbert-base-uncased and are newly initialized: ['classifier.bias', 'classifier.weight', 'pre_classifier.bias', 'pre_classifier.weight']\n",
      "You should probably TRAIN this model on a down-stream task to be able to use it for predictions and inference.\n"
     ]
    }
   ],
   "source": [
    "# Step 8: Load DistilBERT model\n",
    "model = DistilBertForSequenceClassification.from_pretrained('distilbert-base-uncased', num_labels=2)"
   ]
  },
  {
   "cell_type": "code",
   "execution_count": 10,
   "metadata": {},
   "outputs": [],
   "source": [
    "# Step 9: Define compute_metrics\n",
    "def compute_metrics(eval_pred):\n",
    "    logits, labels = eval_pred\n",
    "    predictions = np.argmax(logits, axis=-1)\n",
    "    accuracy = accuracy_score(labels, predictions)\n",
    "    return {\"accuracy\": accuracy}"
   ]
  },
  {
   "cell_type": "code",
   "execution_count": 11,
   "metadata": {},
   "outputs": [
    {
     "name": "stderr",
     "output_type": "stream",
     "text": [
      "d:\\python-3.10\\lib\\site-packages\\transformers\\training_args.py:1611: FutureWarning: `evaluation_strategy` is deprecated and will be removed in version 4.46 of 🤗 Transformers. Use `eval_strategy` instead\n",
      "  warnings.warn(\n"
     ]
    }
   ],
   "source": [
    "# Step 10: Training arguments\n",
    "training_args = TrainingArguments(\n",
    "    output_dir='./results',\n",
    "    num_train_epochs=3,\n",
    "    per_device_train_batch_size=16,  # Increased for faster training\n",
    "    per_device_eval_batch_size=16,\n",
    "    warmup_steps=200,  # Reduced since model is smaller\n",
    "    weight_decay=0.01,\n",
    "    logging_dir='./logs',\n",
    "    logging_steps=10,\n",
    "    evaluation_strategy=\"epoch\",\n",
    "    save_strategy=\"epoch\",\n",
    "    load_best_model_at_end=True,\n",
    "    metric_for_best_model=\"accuracy\",\n",
    "    greater_is_better=True,\n",
    "    save_total_limit=1,\n",
    ")"
   ]
  },
  {
   "cell_type": "code",
   "execution_count": 12,
   "metadata": {},
   "outputs": [],
   "source": [
    "# Step 11: Initialize Trainer\n",
    "trainer = Trainer(\n",
    "    model=model,\n",
    "    args=training_args,\n",
    "    train_dataset=train_dataset,\n",
    "    eval_dataset=val_dataset,\n",
    "    compute_metrics=compute_metrics,\n",
    ")"
   ]
  },
  {
   "cell_type": "code",
   "execution_count": 13,
   "metadata": {},
   "outputs": [
    {
     "name": "stdout",
     "output_type": "stream",
     "text": [
      "Starting training...\n"
     ]
    },
    {
     "data": {
      "text/html": [
       "\n",
       "    <div>\n",
       "      \n",
       "      <progress value='3000' max='3000' style='width:300px; height:20px; vertical-align: middle;'></progress>\n",
       "      [3000/3000 23:25:55, Epoch 3/3]\n",
       "    </div>\n",
       "    <table border=\"1\" class=\"dataframe\">\n",
       "  <thead>\n",
       " <tr style=\"text-align: left;\">\n",
       "      <th>Epoch</th>\n",
       "      <th>Training Loss</th>\n",
       "      <th>Validation Loss</th>\n",
       "      <th>Accuracy</th>\n",
       "    </tr>\n",
       "  </thead>\n",
       "  <tbody>\n",
       "    <tr>\n",
       "      <td>1</td>\n",
       "      <td>0.045600</td>\n",
       "      <td>0.095513</td>\n",
       "      <td>0.980500</td>\n",
       "    </tr>\n",
       "    <tr>\n",
       "      <td>2</td>\n",
       "      <td>0.000200</td>\n",
       "      <td>0.047782</td>\n",
       "      <td>0.991000</td>\n",
       "    </tr>\n",
       "    <tr>\n",
       "      <td>3</td>\n",
       "      <td>0.000200</td>\n",
       "      <td>0.044495</td>\n",
       "      <td>0.992500</td>\n",
       "    </tr>\n",
       "  </tbody>\n",
       "</table><p>"
      ],
      "text/plain": [
       "<IPython.core.display.HTML object>"
      ]
     },
     "metadata": {},
     "output_type": "display_data"
    },
    {
     "data": {
      "text/plain": [
       "TrainOutput(global_step=3000, training_loss=0.04715014288151481, metrics={'train_runtime': 84409.944, 'train_samples_per_second': 0.569, 'train_steps_per_second': 0.036, 'total_flos': 6358435135488000.0, 'train_loss': 0.04715014288151481, 'epoch': 3.0})"
      ]
     },
     "execution_count": 13,
     "metadata": {},
     "output_type": "execute_result"
    }
   ],
   "source": [
    "# Step 12: Train the model\n",
    "print(\"Starting training...\")\n",
    "trainer.train()"
   ]
  },
  {
   "cell_type": "code",
   "execution_count": 14,
   "metadata": {},
   "outputs": [
    {
     "name": "stdout",
     "output_type": "stream",
     "text": [
      "Best model saved to './best_distilbert_model'\n"
     ]
    }
   ],
   "source": [
    "# Step 13: Save the best model\n",
    "model.save_pretrained('./best_distilbert_model')\n",
    "tokenizer.save_pretrained('./best_distilbert_model')\n",
    "print(\"Best model saved to './best_distilbert_model'\")"
   ]
  },
  {
   "cell_type": "code",
   "execution_count": 15,
   "metadata": {},
   "outputs": [
    {
     "name": "stdout",
     "output_type": "stream",
     "text": [
      "Evaluating on test set...\n"
     ]
    },
    {
     "data": {
      "text/html": [],
      "text/plain": [
       "<IPython.core.display.HTML object>"
      ]
     },
     "metadata": {},
     "output_type": "display_data"
    },
    {
     "name": "stdout",
     "output_type": "stream",
     "text": [
      "Test set accuracy: 0.99\n",
      "\n",
      "Classification Report on Test Set:\n",
      "              precision    recall  f1-score   support\n",
      "\n",
      "       Human       1.00      0.98      0.99      1000\n",
      "          AI       0.98      1.00      0.99      1000\n",
      "\n",
      "    accuracy                           0.99      2000\n",
      "   macro avg       0.99      0.99      0.99      2000\n",
      "weighted avg       0.99      0.99      0.99      2000\n",
      "\n"
     ]
    }
   ],
   "source": [
    "# Step 14: Evaluate on test set\n",
    "print(\"Evaluating on test set...\")\n",
    "test_results = trainer.evaluate(test_dataset)\n",
    "print(\"Test set accuracy:\", test_results['eval_accuracy'])\n",
    "\n",
    "# Detailed classification report\n",
    "predictions = trainer.predict(test_dataset)\n",
    "pred_labels = np.argmax(predictions.predictions, axis=-1)\n",
    "true_labels = predictions.label_ids\n",
    "print(\"\\nClassification Report on Test Set:\")\n",
    "print(classification_report(true_labels, pred_labels, target_names=['Human', 'AI']))"
   ]
  },
  {
   "cell_type": "code",
   "execution_count": 23,
   "metadata": {},
   "outputs": [
    {
     "name": "stdout",
     "output_type": "stream",
     "text": [
      "Predicted class: Human\n",
      "Confidence: 98.59%\n",
      "Probabilities - Human: 98.59%, AI: 1.41%\n",
      "True label: Human\n",
      "Accuracy for this sample: 100%\n"
     ]
    }
   ],
   "source": [
    "# Import necessary libraries\n",
    "from transformers import DistilBertTokenizer, DistilBertForSequenceClassification\n",
    "import torch\n",
    "\n",
    "# Step 1: Load the saved model and tokenizer\n",
    "model_path = 'best_distilbert_model'  # Path where your 99% model is saved\n",
    "tokenizer = DistilBertTokenizer.from_pretrained(model_path)\n",
    "model = DistilBertForSequenceClassification.from_pretrained(model_path)\n",
    "\n",
    "# Move model to appropriate device (CPU or GPU)\n",
    "device = torch.device('cuda' if torch.cuda.is_available() else 'cpu')\n",
    "model.to(device)\n",
    "model.eval()  # Set to evaluation mode\n",
    "\n",
    "# Step 2: Provide your 1,000-word text\n",
    "# Replace this with your actual 1,000-word text\n",
    "new_text = \"\"\"\n",
    "iyad and, mohand go to play football this day, then i will watch match of football this day on\n",
    "\"\"\"\n",
    "\n",
    "# Step 3: Tokenize the new text\n",
    "inputs = tokenizer(new_text, padding=\"max_length\", truncation=True, max_length=512, return_tensors=\"pt\")\n",
    "# Move inputs to the same device as the model\n",
    "inputs = {key: val.to(device) for key, val in inputs.items()}\n",
    "\n",
    "# Step 4: Run inference\n",
    "with torch.no_grad():  # No gradient computation for inference\n",
    "    outputs = model(**inputs)\n",
    "    logits = outputs.logits\n",
    "    probabilities = torch.softmax(logits, dim=-1)  # Convert logits to probabilities\n",
    "    predicted_class = torch.argmax(probabilities, dim=-1).item()  # Get predicted class (0 or 1)\n",
    "\n",
    "# Step 5: Interpret and print results\n",
    "class_names = ['Human', 'AI']\n",
    "predicted_label = class_names[predicted_class]\n",
    "confidence = probabilities[0][predicted_class].item() * 100  # Confidence percentage\n",
    "\n",
    "print(f\"Predicted class: {predicted_label}\")\n",
    "print(f\"Confidence: {confidence:.2f}%\")\n",
    "print(f\"Probabilities - Human: {probabilities[0][0].item()*100:.2f}%, AI: {probabilities[0][1].item()*100:.2f}%\")\n",
    "\n",
    "# Step 6 (Optional): If you know the true label, calculate accuracy\n",
    "true_label = 0  # Replace with 0 (Human) or 1 (AI) if you know the ground truth\n",
    "if true_label is not None:\n",
    "    accuracy = 1.0 if predicted_class == true_label else 0.0\n",
    "    print(f\"True label: {class_names[true_label]}\")\n",
    "    print(f\"Accuracy for this sample: {accuracy*100:.0f}%\")\n",
    "else:\n",
    "    print(\"No true label provided, accuracy cannot be calculated.\")"
   ]
  }
 ],
 "metadata": {
  "kernelspec": {
   "display_name": "Python 3",
   "language": "python",
   "name": "python3"
  },
  "language_info": {
   "codemirror_mode": {
    "name": "ipython",
    "version": 3
   },
   "file_extension": ".py",
   "mimetype": "text/x-python",
   "name": "python",
   "nbconvert_exporter": "python",
   "pygments_lexer": "ipython3",
   "version": "3.10.0"
  }
 },
 "nbformat": 4,
 "nbformat_minor": 2
}
